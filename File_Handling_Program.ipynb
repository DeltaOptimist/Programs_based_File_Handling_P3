{
  "nbformat": 4,
  "nbformat_minor": 0,
  "metadata": {
    "colab": {
      "provenance": []
    },
    "kernelspec": {
      "name": "python3",
      "display_name": "Python 3"
    },
    "language_info": {
      "name": "python"
    }
  },
  "cells": [
    {
      "cell_type": "markdown",
      "source": [
        "#Programs based on File Handling."
      ],
      "metadata": {
        "id": "E495XRg6iRBb"
      }
    },
    {
      "cell_type": "markdown",
      "source": [
        "1. Write a Python program to read an entire text file"
      ],
      "metadata": {
        "id": "K1ulJcFgXSmC"
      }
    },
    {
      "cell_type": "code",
      "execution_count": 1,
      "metadata": {
        "colab": {
          "base_uri": "https://localhost:8080/"
        },
        "id": "bHWcgNy-W1Sh",
        "outputId": "5a8b4d54-26a4-414e-a8cf-3156d25a612f"
      },
      "outputs": [
        {
          "output_type": "stream",
          "name": "stdout",
          "text": [
            "What is Python language?                                                \n",
            "Python is a widely used high-level, general-purpose, interpreted, dynamic programming language.Its design philosophy emphasizes code readability, and its syntax allows programmers to express concepts in fewer lines of code than possible in \n",
            "languages such as C++ or Java. \n",
            "Python supports multiple programming paradigms, including object-oriented, imperative and functional programming or procedural styles. It features a dynamic type system and automatic memory management and has a large and comprehensive standard library.The best way we learn anything is by practice and exercise questions. We  have started this section for those (beginner to intermediate) who are familiar with Python.\n"
          ]
        }
      ],
      "source": [
        "def file_read(fname):\n",
        "        txt = open(fname)\n",
        "        print(txt.read())\n",
        "\n",
        "file_read('test.txt')"
      ]
    },
    {
      "cell_type": "markdown",
      "source": [
        "2. Write a Python program to append text to a file and display the text."
      ],
      "metadata": {
        "id": "5SEFmkn_YI3T"
      }
    },
    {
      "cell_type": "code",
      "source": [
        "def file_read(fname):\n",
        "        from itertools import islice\n",
        "        with open(fname, \"w\") as myfile:\n",
        "                myfile.write(\"Python Exercises\\n\")\n",
        "                myfile.write(\"Java Exercises\")\n",
        "        txt = open(fname)\n",
        "        print(txt.read())\n",
        "file_read('abc.txt')"
      ],
      "metadata": {
        "colab": {
          "base_uri": "https://localhost:8080/"
        },
        "id": "ofs-wLqNXxY3",
        "outputId": "ca133128-f1a1-409f-fc88-a5146d56f453"
      },
      "execution_count": 3,
      "outputs": [
        {
          "output_type": "stream",
          "name": "stdout",
          "text": [
            "Python Exercises\n",
            "Java Exercises\n"
          ]
        }
      ]
    },
    {
      "cell_type": "markdown",
      "source": [
        "3. Write a Python program to read a file line by line and store it into a list."
      ],
      "metadata": {
        "id": "VtvbfeNiYNB9"
      }
    },
    {
      "cell_type": "code",
      "source": [
        "def file_read(fname):\n",
        "        with open(fname) as f:\n",
        "                #Content_list is the list that contains the read lines.     \n",
        "                content_list = f.readlines()\n",
        "                print(content_list)\n",
        "\n",
        "file_read('test.txt')"
      ],
      "metadata": {
        "colab": {
          "base_uri": "https://localhost:8080/"
        },
        "id": "nsKqXBt0YD3A",
        "outputId": "9c48958b-33f1-483a-b167-469681bb5ad1"
      },
      "execution_count": 7,
      "outputs": [
        {
          "output_type": "stream",
          "name": "stdout",
          "text": [
            "['What is Python language?                                                \\n', 'Python is a widely used high-level, general-purpose, interpreted, dynamic programming language.Its design philosophy emphasizes code readability, and its syntax allows programmers to express concepts in fewer lines of code than possible in \\n', 'languages such as C++ or Java. \\n', 'Python supports multiple programming paradigms, including object-oriented, imperative and functional programming or procedural styles. It features a dynamic type system and automatic memory management and has a large and comprehensive standard library.The best way we learn anything is by practice and exercise questions. We  have started this section for those (beginner to intermediate) who are familiar with Python.']\n"
          ]
        }
      ]
    },
    {
      "cell_type": "markdown",
      "source": [
        "4. Write a Python program to read a file line by line store it into a variable."
      ],
      "metadata": {
        "id": "iv-LrN1RY6cA"
      }
    },
    {
      "cell_type": "code",
      "source": [
        "def file_read(fname):\n",
        "        with open (fname, \"r\") as myfile:\n",
        "                data=myfile.readlines()\n",
        "                print(data)\n",
        "                \n",
        "file_read('test.txt')"
      ],
      "metadata": {
        "colab": {
          "base_uri": "https://localhost:8080/"
        },
        "id": "iW6kA7qHYq0K",
        "outputId": "f72b1a38-bef3-45e7-b09f-2abb7aac7ce6"
      },
      "execution_count": 15,
      "outputs": [
        {
          "output_type": "stream",
          "name": "stdout",
          "text": [
            "['What is Python language?                                                \\n', 'Python is a widely used high-level, general-purpose, interpreted, dynamic programming language.Its design philosophy emphasizes code readability, and its syntax allows programmers to express concepts in fewer lines of code than possible in \\n', 'languages such as C++ or Java. \\n', 'Python supports multiple programming paradigms, including object-oriented, imperative and functional programming or procedural styles. It features a dynamic type system and automatic memory management and has a large and comprehensive standard library.The best way we learn anything is by practice and exercise questions. We  have started this section for those (beginner to intermediate) who are familiar with Python.']\n"
          ]
        }
      ]
    },
    {
      "cell_type": "markdown",
      "source": [
        "5. Write a Python program to read a file line by line store it into an array."
      ],
      "metadata": {
        "id": "1xPLS4rLZ8Ti"
      }
    },
    {
      "cell_type": "code",
      "source": [
        "def file_read(fname):\n",
        "        content_array = []\n",
        "        with open(fname) as f:\n",
        "                #Content_list is the list that contains the read lines.     \n",
        "                for line in f:\n",
        "                        content_array.append(line)\n",
        "                print(content_array)\n",
        "                \n",
        "\n",
        "file_read('test.txt')"
      ],
      "metadata": {
        "colab": {
          "base_uri": "https://localhost:8080/"
        },
        "id": "RpY_JDOhZeLw",
        "outputId": "9a44116a-4a14-42f5-c72c-9cb5c4da064d"
      },
      "execution_count": 14,
      "outputs": [
        {
          "output_type": "stream",
          "name": "stdout",
          "text": [
            "['What is Python language?                                                \\n', 'Python is a widely used high-level, general-purpose, interpreted, dynamic programming language.Its design philosophy emphasizes code readability, and its syntax allows programmers to express concepts in fewer lines of code than possible in \\n', 'languages such as C++ or Java. \\n', 'Python supports multiple programming paradigms, including object-oriented, imperative and functional programming or procedural styles. It features a dynamic type system and automatic memory management and has a large and comprehensive standard library.The best way we learn anything is by practice and exercise questions. We  have started this section for those (beginner to intermediate) who are familiar with Python.']\n"
          ]
        }
      ]
    },
    {
      "cell_type": "markdown",
      "source": [
        "6. Write a python program to find the longest words."
      ],
      "metadata": {
        "id": "dlHQQvVXax3a"
      }
    },
    {
      "cell_type": "code",
      "source": [
        "def longest_word(filename):\n",
        "    with open(filename, 'r') as infile:\n",
        "              words = infile.read().split()\n",
        "    max_len = len(max(words, key=len))\n",
        "    return [word for word in words if len(word) == max_len]\n",
        "\n",
        "print(longest_word('test.txt'))"
      ],
      "metadata": {
        "colab": {
          "base_uri": "https://localhost:8080/"
        },
        "id": "uIRaa56KaBhz",
        "outputId": "0a00509f-e92f-4bcd-9ffa-f49635e0a028"
      },
      "execution_count": 16,
      "outputs": [
        {
          "output_type": "stream",
          "name": "stdout",
          "text": [
            "['general-purpose,', 'object-oriented,']\n"
          ]
        }
      ]
    },
    {
      "cell_type": "markdown",
      "source": [
        "7. Write a Python program to count the frequency of words in a file."
      ],
      "metadata": {
        "id": "7J8v2Z-1goZ2"
      }
    },
    {
      "cell_type": "code",
      "source": [
        "from collections import Counter\n",
        "\n",
        "def word_count(fname):\n",
        "        with open(fname) as f:\n",
        "                return Counter(f.read().split())\n",
        "\n",
        "print(\"Number of words in the file :\",word_count(\"test.txt\"))"
      ],
      "metadata": {
        "colab": {
          "base_uri": "https://localhost:8080/"
        },
        "id": "8pZo7SuJa3AM",
        "outputId": "eb449cef-8505-4ec0-fefe-9435b5d27530"
      },
      "execution_count": 17,
      "outputs": [
        {
          "output_type": "stream",
          "name": "stdout",
          "text": [
            "Number of words in the file : Counter({'and': 6, 'is': 3, 'Python': 3, 'a': 3, 'programming': 3, 'dynamic': 2, 'code': 2, 'to': 2, 'in': 2, 'or': 2, 'What': 1, 'language?': 1, 'widely': 1, 'used': 1, 'high-level,': 1, 'general-purpose,': 1, 'interpreted,': 1, 'language.Its': 1, 'design': 1, 'philosophy': 1, 'emphasizes': 1, 'readability,': 1, 'its': 1, 'syntax': 1, 'allows': 1, 'programmers': 1, 'express': 1, 'concepts': 1, 'fewer': 1, 'lines': 1, 'of': 1, 'than': 1, 'possible': 1, 'languages': 1, 'such': 1, 'as': 1, 'C++': 1, 'Java.': 1, 'supports': 1, 'multiple': 1, 'paradigms,': 1, 'including': 1, 'object-oriented,': 1, 'imperative': 1, 'functional': 1, 'procedural': 1, 'styles.': 1, 'It': 1, 'features': 1, 'type': 1, 'system': 1, 'automatic': 1, 'memory': 1, 'management': 1, 'has': 1, 'large': 1, 'comprehensive': 1, 'standard': 1, 'library.The': 1, 'best': 1, 'way': 1, 'we': 1, 'learn': 1, 'anything': 1, 'by': 1, 'practice': 1, 'exercise': 1, 'questions.': 1, 'We': 1, 'have': 1, 'started': 1, 'this': 1, 'section': 1, 'for': 1, 'those': 1, '(beginner': 1, 'intermediate)': 1, 'who': 1, 'are': 1, 'familiar': 1, 'with': 1, 'Python.': 1})\n"
          ]
        }
      ]
    },
    {
      "cell_type": "markdown",
      "source": [
        "8. Write a Python program to assess if a file is closed or not."
      ],
      "metadata": {
        "id": "EmQAc0ikg3KE"
      }
    },
    {
      "cell_type": "code",
      "source": [
        "f = open('abc.txt','r')\n",
        "print(f.closed)\n",
        "f.close()\n",
        "print(f.closed)"
      ],
      "metadata": {
        "colab": {
          "base_uri": "https://localhost:8080/"
        },
        "id": "Y4Vats92gs5z",
        "outputId": "de1037ef-5a8f-48bf-a651-d2f876323f57"
      },
      "execution_count": 18,
      "outputs": [
        {
          "output_type": "stream",
          "name": "stdout",
          "text": [
            "False\n",
            "True\n"
          ]
        }
      ]
    },
    {
      "cell_type": "code",
      "source": [],
      "metadata": {
        "id": "vvEyKf1cg_-7"
      },
      "execution_count": null,
      "outputs": []
    }
  ]
}